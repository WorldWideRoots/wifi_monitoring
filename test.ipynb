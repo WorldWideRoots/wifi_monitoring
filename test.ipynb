{
 "cells": [
  {
   "cell_type": "code",
   "execution_count": 1,
   "metadata": {},
   "outputs": [],
   "source": [
    "import requests\n",
    "import json\n",
    "import getpass\n",
    "from requests.auth import HTTPBasicAuth\n"
   ]
  },
  {
   "cell_type": "code",
   "execution_count": null,
   "metadata": {},
   "outputs": [],
   "source": [
    "\n",
    "# Define Cisco DNA Center API details\n",
    "DNA_CENTER_URL = 'https://your-dna-center-instance'\n",
    "AUTH_ENDPOINT = f'{DNA_CENTER_URL}/dna/system/api/v1/auth/token'\n",
    "DEVICES_ENDPOINT = f'{DNA_CENTER_URL}/dna/intent/api/v1/network-device'\n",
    "\n",
    "# Prompt user for input\n",
    "USERNAME = input(\"Enter your Cisco DNA Center username: \")\n",
    "PASSWORD = getpass.getpass(\"Enter your Cisco DNA Center password: \")\n"
   ]
  },
  {
   "cell_type": "code",
   "execution_count": null,
   "metadata": {},
   "outputs": [],
   "source": [
    "\n",
    "# Function to authenticate and get the API token\n",
    "def authenticate(username, password):\n",
    "    response = requests.post(AUTH_ENDPOINT, auth=HTTPBasicAuth(username, password))\n",
    "    response.raise_for_status()  # Raise an exception for HTTP errors\n",
    "    data = response.json()\n",
    "    return data['Token']\n",
    "\n",
    "# Function to pull device data\n",
    "def pull_device_data(token):\n",
    "    headers = {'X-Auth-Token': token}\n",
    "    response = requests.get(DEVICES_ENDPOINT, headers=headers)\n",
    "    response.raise_for_status()\n",
    "    return response.json()\n"
   ]
  },
  {
   "cell_type": "code",
   "execution_count": null,
   "metadata": {},
   "outputs": [],
   "source": [
    "\n",
    "# Authenticate and get the API token\n",
    "token = authenticate(USERNAME, PASSWORD)\n",
    "\n",
    "# Pull device data\n",
    "device_data = pull_device_data(token)\n",
    "\n",
    "# Print the device data\n",
    "print(json.dumps(device_data, indent=2))\n"
   ]
  }
 ],
 "metadata": {
  "kernelspec": {
   "display_name": "playground",
   "language": "python",
   "name": "python3"
  },
  "language_info": {
   "codemirror_mode": {
    "name": "ipython",
    "version": 3
   },
   "file_extension": ".py",
   "mimetype": "text/x-python",
   "name": "python",
   "nbconvert_exporter": "python",
   "pygments_lexer": "ipython3",
   "version": "3.11.9"
  }
 },
 "nbformat": 4,
 "nbformat_minor": 2
}
