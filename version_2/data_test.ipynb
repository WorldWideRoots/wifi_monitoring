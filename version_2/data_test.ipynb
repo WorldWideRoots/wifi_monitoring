{
 "cells": [
  {
   "cell_type": "code",
   "execution_count": 2,
   "metadata": {},
   "outputs": [
    {
     "name": "stdout",
     "output_type": "stream",
     "text": [
      "Synthetic data generated and saved to 'basic_info.csv' and 'op_status.csv'.\n"
     ]
    }
   ],
   "source": [
    "import pandas as pd\n",
    "import random\n",
    "import time\n",
    "\n",
    "# Number of devices\n",
    "num_devices = 200\n",
    "\n",
    "# Generate device names, IDs, and MAC addresses\n",
    "device_names = [f\"Device_{i+1}\" for i in range(num_devices)]\n",
    "device_ids = [f\"ID_{i+1:03d}\" for i in range(num_devices)]\n",
    "mac_addresses = [f\"00:{random.randint(0, 99):02x}:{random.randint(0, 99):02x}:{random.randint(0, 99):02x}:{random.randint(0, 99):02x}:{random.randint(0, 99):02x}\" for _ in range(num_devices)]\n",
    "ap_types = [random.choice([\"Type_A\", \"Type_B\", \"Type_C\"]) for _ in range(num_devices)]\n",
    "locations = [f\"Location_{random.randint(1, 10)}\" for _ in range(num_devices)]\n",
    "up_times = [random.randint(10000, 50000) for _ in range(num_devices)]  # In seconds\n",
    "connected_times = [random.randint(1000, 10000) for _ in range(num_devices)]  # In seconds\n",
    "\n",
    "# Create basic info DataFrame\n",
    "df_basic_info = pd.DataFrame({\n",
    "    \"name\": device_names,\n",
    "    \"id\": device_ids,\n",
    "    \"macAddress\": mac_addresses,\n",
    "    \"apType\": ap_types,\n",
    "    \"location\": locations,\n",
    "    \"upTime\": up_times,\n",
    "    \"connectedTime\": connected_times\n",
    "})\n",
    "\n",
    "# Generate connectivity status\n",
    "connectivity_statuses = [random.choice([0,100,50]) for _ in range(num_devices)]\n",
    "\n",
    "# Create operational status DataFrame\n",
    "df_op_status = pd.DataFrame({\n",
    "    \"name\": device_names,\n",
    "    \"id\": device_ids,\n",
    "    \"macAddress\": mac_addresses,\n",
    "    \"connectivityStatus\": connectivity_statuses\n",
    "})\n",
    "\n",
    "# Save to CSV files\n",
    "df_basic_info.to_csv('basic_info.csv', index=False)\n",
    "df_op_status.to_csv('op_status.csv', index=False)\n",
    "\n",
    "print(\"Synthetic data generated and saved to 'basic_info.csv' and 'op_status.csv'.\")\n"
   ]
  },
  {
   "cell_type": "code",
   "execution_count": null,
   "metadata": {},
   "outputs": [],
   "source": []
  }
 ],
 "metadata": {
  "kernelspec": {
   "display_name": "playground",
   "language": "python",
   "name": "python3"
  },
  "language_info": {
   "codemirror_mode": {
    "name": "ipython",
    "version": 3
   },
   "file_extension": ".py",
   "mimetype": "text/x-python",
   "name": "python",
   "nbconvert_exporter": "python",
   "pygments_lexer": "ipython3",
   "version": "3.11.9"
  }
 },
 "nbformat": 4,
 "nbformat_minor": 2
}
