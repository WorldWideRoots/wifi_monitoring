{
 "cells": [
  {
   "cell_type": "code",
   "execution_count": 1,
   "metadata": {},
   "outputs": [
    {
     "name": "stdout",
     "output_type": "stream",
     "text": [
      "100\n",
      "100\n",
      "100\n",
      "103\n",
      "100\n",
      "100\n",
      "100\n"
     ]
    }
   ],
   "source": [
    "# Checking lengths\n",
    "name_list = [f'Device{i}' for i in range(1, 101)]\n",
    "id_list = [f'{i:03d}' for i in range(1, 101)]\n",
    "macAddress_list = [f'00:14:22:01:23:{i:02d}' for i in range(1, 101)]\n",
    "apType_list = ['TypeA', 'TypeB', 'TypeC'] * 33 + ['TypeA']  # This ensures it has 100 elements\n",
    "location_list = [f'Location{i % 10 + 1}' for i in range(1, 101)]\n",
    "upTime_list = ['10:00:00'] * 100\n",
    "connectedTime_list = ['09:30:00'] * 100\n",
    "\n",
    "print(len(name_list))\n",
    "print(len(id_list))\n",
    "print(len(macAddress_list))\n",
    "print(len(apType_list))\n",
    "print(len(location_list))\n",
    "print(len(upTime_list))\n",
    "print(len(connectedTime_list))\n"
   ]
  },
  {
   "cell_type": "code",
   "execution_count": null,
   "metadata": {},
   "outputs": [],
   "source": []
  }
 ],
 "metadata": {
  "kernelspec": {
   "display_name": "playground",
   "language": "python",
   "name": "python3"
  },
  "language_info": {
   "codemirror_mode": {
    "name": "ipython",
    "version": 3
   },
   "file_extension": ".py",
   "mimetype": "text/x-python",
   "name": "python",
   "nbconvert_exporter": "python",
   "pygments_lexer": "ipython3",
   "version": "3.11.9"
  }
 },
 "nbformat": 4,
 "nbformat_minor": 2
}
